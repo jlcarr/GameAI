{
 "cells": [
  {
   "cell_type": "code",
   "execution_count": null,
   "metadata": {
    "colab": {
     "base_uri": "https://localhost:8080/"
    },
    "id": "1FUoeHU3s4K9",
    "outputId": "54e5d311-d0c2-4d97-cfc6-bbd4af33c7f1"
   },
   "outputs": [],
   "source": [
    "!pip install neat-python"
   ]
  },
  {
   "cell_type": "code",
   "execution_count": null,
   "metadata": {
    "id": "SUgKCn8-tHOe"
   },
   "outputs": [],
   "source": [
    "import neat\n",
    "import numpy as np"
   ]
  },
  {
   "cell_type": "code",
   "execution_count": null,
   "metadata": {
    "id": "EU19S8iUyzky"
   },
   "outputs": [],
   "source": [
    "class board():\n",
    "  def __init__(self):\n",
    "    self.state = np.array([\n",
    "      [' ', ' ', ' '],\n",
    "      [' ', ' ', ' '],\n",
    "      [' ', ' ', ' '],\n",
    "    ])\n",
    "\n",
    "  def state_vec(self, turn):\n",
    "    val = self.state.ravel()\n",
    "    val = (val == 'O').astype(int) - (val == 'X').astype(int)\n",
    "    val *= 1-2*(turn%2)\n",
    "    return val\n",
    "\n",
    "  def done(self):\n",
    "    if ' ' not in self.state:\n",
    "      return True\n",
    "    v = self.victor()\n",
    "    return v != 0\n",
    "\n",
    "  def victor(self):\n",
    "    for row in self.state:\n",
    "      if (row == 'O').all():\n",
    "        return 1\n",
    "      if (row == 'X').all():\n",
    "        return -1\n",
    "    for col in self.state.T:\n",
    "      if (col == 'O').all():\n",
    "        return 1\n",
    "      if (col == 'X').all():\n",
    "        return -1\n",
    "    return 0\n",
    "\n",
    "  def move(self, position, symbol):\n",
    "    row,col = position//3, position%3\n",
    "    if self.state[row,col] != ' ':\n",
    "      return False\n",
    "    self.state[row,col] = symbol\n",
    "    return True\n",
    "  \n",
    "  def valid_mask(self):\n",
    "    return 1-np.abs(self.state_vec(0))"
   ]
  },
  {
   "cell_type": "code",
   "execution_count": null,
   "metadata": {
    "id": "lOUhmHiX2GRL"
   },
   "outputs": [],
   "source": [
    "def compete(net1, net2):\n",
    "  players = [(net1, 'O'), (net2, 'X')]\n",
    "  game_board = board()\n",
    "  turn = 0\n",
    "  while not game_board.done():\n",
    "    #print(f\"turn: {turn}\")\n",
    "    net, symbol = players[turn%2]\n",
    "    choice_disribution = net.activate(game_board.state_vec(turn))\n",
    "    choice_disribution *= game_board.valid_mask()\n",
    "    choice = np.argmax(choice_disribution)\n",
    "    valid = game_board.move(choice, symbol)\n",
    "    #print(f\"player {turn%2} chooses {choice}\")\n",
    "    #print(game_board.state)\n",
    "    if not valid:\n",
    "      return (turn%2)*2 -1\n",
    "    turn += 1\n",
    "  return game_board.victor()\n",
    "\n",
    "def random_compete(net, verbose=False):\n",
    "  order = np.random.randint(0,2)\n",
    "  net_symbol = ['O', 'X'][order]\n",
    "  vs_symbol = ['O', 'X'][1-(order%2)]\n",
    "  if verbose:\n",
    "    print(f\"{order} ({net_symbol}) is net\")\n",
    "  game_board = board()\n",
    "  turn = 0\n",
    "  while not game_board.done():\n",
    "    if turn%2 == order:\n",
    "      choice_disribution = net.activate(game_board.state_vec(turn))\n",
    "      #print(choice_disribution)\n",
    "      choice_disribution *= game_board.valid_mask()\n",
    "      #print(choice_disribution)\n",
    "      choice = np.argmax(choice_disribution)\n",
    "      valid = game_board.move(choice, net_symbol)\n",
    "    else:\n",
    "      choice_disribution = np.random.rand(game_board.state.size)\n",
    "      choice_disribution *= game_board.valid_mask()\n",
    "      choice = np.argmax(choice_disribution)\n",
    "      valid = game_board.move(choice, vs_symbol)\n",
    "    if verbose:\n",
    "      print(f\"turn: {turn}\")\n",
    "      print(f\"player {turn%2} chooses {choice}\")\n",
    "      print(game_board.state)\n",
    "    turn += 1\n",
    "  result = game_board.victor()*(1-2*order)\n",
    "  if verbose:\n",
    "    print(result)\n",
    "  return result\n",
    "\n",
    "def eval_genomes(genomes, config):\n",
    "  rand_fit = 0\n",
    "  for genome_id, genome in genomes:\n",
    "    genome.fitness = 0.0\n",
    "    net = neat.nn.FeedForwardNetwork.create(genome, config)\n",
    "    for i in range(10):\n",
    "      genome.fitness += random_compete(net)\n",
    "    #print(f\"{genome_id} fitness: {genome.fitness}\")\n",
    "    rand_fit += genome.fitness\n",
    "  print(\"total:\",rand_fit)\n",
    "  for i in np.random.permutation(len(genomes)):\n",
    "    for j in np.random.permutation(len(genomes)):\n",
    "      genome1_id, genome1 = genomes[i]\n",
    "      genome2_id, genome2 = genomes[j]\n",
    "      if genome1_id == genome2_id:\n",
    "        continue\n",
    "      #print(f\"{genome1_id} vs. {genome2_id}\")\n",
    "      net1 = neat.nn.FeedForwardNetwork.create(genome1, config)\n",
    "      net2 = neat.nn.FeedForwardNetwork.create(genome2, config)\n",
    "      result = compete(net1, net2)\n",
    "      #print(f\"result: {result}\")\n",
    "      #print()\n",
    "      genome1.fitness += result\n",
    "      genome2.fitness -= result"
   ]
  },
  {
   "cell_type": "code",
   "execution_count": null,
   "metadata": {
    "id": "HQdLvZtK-ZMH"
   },
   "outputs": [],
   "source": [
    "def run(config_file):\n",
    "    config = neat.Config(neat.DefaultGenome, neat.DefaultReproduction,\n",
    "                         neat.DefaultSpeciesSet, neat.DefaultStagnation,\n",
    "                         config_file)\n",
    "\n",
    "    # Create the population, which is the top-level object for a NEAT run.\n",
    "    p = neat.Population(config)\n",
    "\n",
    "    # Add a stdout reporter to show progress in the terminal.\n",
    "    p.add_reporter(neat.StdOutReporter(True))\n",
    "    stats = neat.StatisticsReporter()\n",
    "    p.add_reporter(stats)\n",
    "\n",
    "    # Run for up to 300 generations.\n",
    "    winner = p.run(eval_genomes, 10)\n",
    "\n",
    "    # Display the winning genome.\n",
    "    #print('\\nBest genome:\\n{!s}'.format(winner))\n",
    "    return winner,config"
   ]
  },
  {
   "cell_type": "code",
   "execution_count": null,
   "metadata": {
    "id": "_kFhVeQA-_UX"
   },
   "outputs": [],
   "source": [
    "config_path = 'neat.config'\n",
    "file = open(config_path,'w')\n",
    "config_data = \"\"\"[NEAT]\n",
    "fitness_criterion     = max\n",
    "fitness_threshold     = 100\n",
    "no_fitness_termination= True\n",
    "pop_size              = 10\n",
    "reset_on_extinction   = False\n",
    "\n",
    "[DefaultGenome]\n",
    "# node activation options\n",
    "activation_default      = sigmoid\n",
    "activation_mutate_rate  = 0.0\n",
    "activation_options      = sigmoid\n",
    "\n",
    "# node aggregation options\n",
    "aggregation_default     = sum\n",
    "aggregation_mutate_rate = 0.0\n",
    "aggregation_options     = sum\n",
    "\n",
    "# node bias options\n",
    "bias_init_mean          = 0.0\n",
    "bias_init_stdev         = 1.0\n",
    "bias_max_value          = 30.0\n",
    "bias_min_value          = -30.0\n",
    "bias_mutate_power       = 0.5\n",
    "bias_mutate_rate        = 0.7\n",
    "bias_replace_rate       = 0.1\n",
    "\n",
    "# genome compatibility options\n",
    "compatibility_disjoint_coefficient = 1.0\n",
    "compatibility_weight_coefficient   = 0.5\n",
    "\n",
    "# connection add/remove rates\n",
    "conn_add_prob           = 0.5\n",
    "conn_delete_prob        = 0.5\n",
    "\n",
    "# connection enable options\n",
    "enabled_default         = True\n",
    "enabled_mutate_rate     = 0.1\n",
    "\n",
    "feed_forward            = True\n",
    "initial_connection      = full\n",
    "\n",
    "# node add/remove rates\n",
    "node_add_prob           = 0.2\n",
    "node_delete_prob        = 0.2\n",
    "\n",
    "# network parameters\n",
    "num_hidden              = 0\n",
    "num_inputs              = 9\n",
    "num_outputs             = 9\n",
    "\n",
    "# node response options\n",
    "response_init_mean      = 1.0\n",
    "response_init_stdev     = 0.1\n",
    "response_max_value      = 30.0\n",
    "response_min_value      = -30.0\n",
    "response_mutate_power   = 0.0\n",
    "response_mutate_rate    = 0.0\n",
    "response_replace_rate   = 0.0\n",
    "\n",
    "# connection weight options\n",
    "weight_init_mean        = 0.0\n",
    "weight_init_stdev       = 1.0\n",
    "weight_max_value        = 30\n",
    "weight_min_value        = -30\n",
    "weight_mutate_power     = 0.5\n",
    "weight_mutate_rate      = 0.8\n",
    "weight_replace_rate     = 0.1\n",
    "\n",
    "[DefaultSpeciesSet]\n",
    "compatibility_threshold = 3.0\n",
    "\n",
    "[DefaultStagnation]\n",
    "species_fitness_func = max\n",
    "max_stagnation       = 5\n",
    "species_elitism      = 4\n",
    "\n",
    "[DefaultReproduction]\n",
    "elitism            = 2\n",
    "survival_threshold = 0.2\n",
    "\"\"\"\n",
    "file.write(config_data)\n",
    "file.close()"
   ]
  },
  {
   "cell_type": "code",
   "execution_count": null,
   "metadata": {
    "colab": {
     "base_uri": "https://localhost:8080/"
    },
    "id": "ks47p-XZCKkt",
    "outputId": "faa6f66a-6e7b-4d90-b74d-0d956ffc464e"
   },
   "outputs": [],
   "source": [
    "winner,config = run(config_path)"
   ]
  },
  {
   "cell_type": "code",
   "execution_count": null,
   "metadata": {
    "id": "KG-ZTt5TBzZ-"
   },
   "outputs": [],
   "source": [
    "net = neat.nn.FeedForwardNetwork.create(winner, config)"
   ]
  },
  {
   "cell_type": "code",
   "execution_count": null,
   "metadata": {
    "id": "D5ytuM47FiMd"
   },
   "outputs": [],
   "source": [
    "game_board = board()"
   ]
  },
  {
   "cell_type": "code",
   "execution_count": null,
   "metadata": {
    "colab": {
     "base_uri": "https://localhost:8080/"
    },
    "id": "JMeuMGsSGYdB",
    "outputId": "b3103092-9907-4fc3-b868-44a84163f71f"
   },
   "outputs": [],
   "source": [
    "choice = net.activate(game_board.state_vec(0))\n",
    "print(choice)\n",
    "choices = np.argsort(choice)[::-1]\n",
    "print(choices)\n",
    "for choice in choices:\n",
    "  valid = game_board.move(choice, 'O')\n",
    "  print(valid, choice)\n",
    "  if valid:\n",
    "    break\n",
    "print(game_board.state)"
   ]
  },
  {
   "cell_type": "code",
   "execution_count": null,
   "metadata": {
    "colab": {
     "base_uri": "https://localhost:8080/"
    },
    "id": "W7X27oyDGzO1",
    "outputId": "672d0f35-4c12-4d00-945c-52be8270fab5"
   },
   "outputs": [],
   "source": [
    "valid = game_board.move(7, 'X')\n",
    "print(valid)\n",
    "print(game_board.state)"
   ]
  },
  {
   "cell_type": "code",
   "execution_count": null,
   "metadata": {
    "id": "Ijo7JEP8IPw6"
   },
   "outputs": [],
   "source": [
    "rand_fit = 0\n",
    "n = 1000\n",
    "for i in range(n):\n",
    "  rand_fit += random_compete(net)\n",
    "rand_fit/n"
   ]
  },
  {
   "cell_type": "code",
   "execution_count": null,
   "metadata": {},
   "outputs": [],
   "source": []
  }
 ],
 "metadata": {
  "colab": {
   "collapsed_sections": [],
   "name": "Untitled1.ipynb",
   "provenance": []
  },
  "kernelspec": {
   "display_name": "Python 3",
   "language": "python",
   "name": "python3"
  },
  "language_info": {
   "codemirror_mode": {
    "name": "ipython",
    "version": 3
   },
   "file_extension": ".py",
   "mimetype": "text/x-python",
   "name": "python",
   "nbconvert_exporter": "python",
   "pygments_lexer": "ipython3",
   "version": "3.9.1"
  }
 },
 "nbformat": 4,
 "nbformat_minor": 1
}
